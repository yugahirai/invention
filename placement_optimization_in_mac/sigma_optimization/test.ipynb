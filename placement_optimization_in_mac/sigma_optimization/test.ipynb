{
 "cells": [
  {
   "cell_type": "code",
   "execution_count": 43,
   "metadata": {},
   "outputs": [
    {
     "name": "stdout",
     "output_type": "stream",
     "text": [
      "2\n",
      "8\n",
      "14\n",
      "20\n",
      "26\n",
      "32\n",
      "38\n",
      "44\n",
      "50\n",
      "56\n",
      "62\n",
      "68\n",
      "74\n",
      "80\n",
      "86\n",
      "92\n",
      "98\n",
      "104\n",
      "110\n",
      "116\n"
     ]
    }
   ],
   "source": [
    "for i in range(20):\n",
    "    x = 6*i + 2\n",
    "    print(x)"
   ]
  },
  {
   "cell_type": "code",
   "execution_count": 44,
   "metadata": {},
   "outputs": [
    {
     "name": "stdout",
     "output_type": "stream",
     "text": [
      "0\n",
      "1\n",
      "3\n",
      "4\n",
      "6\n",
      "7\n",
      "9\n",
      "10\n",
      "12\n",
      "13\n",
      "15\n",
      "16\n",
      "18\n",
      "19\n",
      "21\n",
      "22\n",
      "24\n",
      "25\n",
      "27\n",
      "28\n"
     ]
    }
   ],
   "source": [
    "for i in range(20):\n",
    "    x = i*3//2\n",
    "    print(x)"
   ]
  }
 ],
 "metadata": {
  "kernelspec": {
   "display_name": "Python 3",
   "language": "python",
   "name": "python3"
  },
  "language_info": {
   "codemirror_mode": {
    "name": "ipython",
    "version": 3
   },
   "file_extension": ".py",
   "mimetype": "text/x-python",
   "name": "python",
   "nbconvert_exporter": "python",
   "pygments_lexer": "ipython3",
   "version": "3.11.4"
  }
 },
 "nbformat": 4,
 "nbformat_minor": 2
}
